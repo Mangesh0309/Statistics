{
  "nbformat": 4,
  "nbformat_minor": 0,
  "metadata": {
    "colab": {
      "provenance": [],
      "authorship_tag": "ABX9TyPcqFbQCdTZeaVyBJWgWQnE",
      "include_colab_link": true
    },
    "kernelspec": {
      "name": "python3",
      "display_name": "Python 3"
    },
    "language_info": {
      "name": "python"
    }
  },
  "cells": [
    {
      "cell_type": "markdown",
      "metadata": {
        "id": "view-in-github",
        "colab_type": "text"
      },
      "source": [
        "<a href=\"https://colab.research.google.com/github/Mangesh0309/Statistics/blob/main/Statistics_Advanced1.ipynb\" target=\"_parent\"><img src=\"https://colab.research.google.com/assets/colab-badge.svg\" alt=\"Open In Colab\"/></a>"
      ]
    },
    {
      "cell_type": "markdown",
      "source": [
        "#Statistics Advanced 1\n"
      ],
      "metadata": {
        "id": "DdOu-e7W9GyW"
      }
    },
    {
      "cell_type": "markdown",
      "source": [
        "1.  What is a random variable in probability theory?"
      ],
      "metadata": {
        "id": "4_crh1m89PHd"
      }
    },
    {
      "cell_type": "markdown",
      "source": [
        "Answer:"
      ],
      "metadata": {
        "id": "IEvrmtNyAcq9"
      }
    },
    {
      "cell_type": "markdown",
      "source": [
        "Random Variable in Probability Theory\n",
        "\n",
        "A random variable is a function that assigns numerical values to the outcomes of a random experiment. It helps convert uncertain outcomes into measurable quantities, making statistical analysis possible. Instead of working with abstract events, random variables allow us to represent and analyze them mathematically.\n",
        " - A random variable is not the outcome itself but a rule that maps outcomes to numbers.\n",
        "\n",
        " - It provides a link between probability experiments and mathematics.\n",
        "\n",
        " - Random variables are used to calculate probabilities, expectations, variances, and to build probability distributions.\n",
        "\n",
        " Types of Random Variables:\n",
        "\n",
        " - Discrete Random Variable:\n",
        "  \n",
        " - - Takes a finite or countable set of values.\n",
        "\n",
        "\n",
        "\n",
        " - - Example: Number of heads in 3 coin tosses (possible values: 0, 1, 2, 3).\n",
        "\n",
        " - Continuous Random Variable:\n",
        "\n",
        " - - Takes values from an interval of real numbers (uncountably infinite).\n",
        "\n",
        " - - Example: The time taken for a student to finish an exam (could be any real value within a range).\n",
        " - Examples:\n",
        "\n",
        "Tossing a coin: Let\n",
        "x = 1\n",
        "X=1 if head,\n",
        "x = 0\n",
        "X=0 if tail.\n",
        "\n",
        "Rolling a die: Let\n",
        "y represent the number that appears (values from 1 to 6).\n",
        "\n",
        "Measuring height: Let\n",
        "z\n",
        " be the height of a randomly chosen person in cm (continuous).\n",
        "\n",
        " - Conclusion:\n",
        "A random variable is a fundamental concept in probability that transforms real-world randomness into structured numerical form. By categorizing them into discrete and continuous, we can build probability distributions, analyze uncertainty, and make statistical inferences."
      ],
      "metadata": {
        "id": "qtGkrS5t9S2W"
      }
    },
    {
      "cell_type": "markdown",
      "source": [
        "2. What are the types of random variables?\n"
      ],
      "metadata": {
        "id": "d0FR-tZR_cmD"
      }
    },
    {
      "cell_type": "markdown",
      "source": [
        "Answer:"
      ],
      "metadata": {
        "id": "Nw2EP1EgAfrC"
      }
    },
    {
      "cell_type": "markdown",
      "source": [
        "Types of Random Variables\n",
        "\n",
        "In probability theory, a random variable is a numerical representation of outcomes from a random experiment. Based on the nature of the values they can take, random variables are broadly divided into two main types: Discrete and Continuous.\n",
        "1. Discrete Random Variable\n",
        "\n",
        "Takes a finite or countable number of values.\n",
        "\n",
        "Values usually arise from counting outcomes.\n",
        "\n",
        "Probability of each value is assigned using a probability mass function (PMF).\n",
        "\n",
        "Example:\n",
        "\n",
        "Tossing 3 coins → Random variable\n",
        "𝑋\n",
        "X = number of heads (possible values: 0, 1, 2, 3).\n",
        "\n",
        "Rolling a die →\n",
        "𝑌\n",
        "Y = outcome of die (values 1 to 6).\n",
        "\n",
        "2. Continuous Random Variable\n",
        "\n",
        "Takes an infinite number of values within an interval of real numbers.\n",
        "\n",
        "Values usually arise from measurement.\n",
        "\n",
        "Probabilities are described using a probability density function (PDF), and probability is measured over ranges, not individual points.\n",
        "\n",
        "Example:\n",
        "\n",
        "Time taken by a runner to finish a race (could be 12.53 seconds, 12.531 seconds, etc.).\n",
        "\n",
        "Height, weight, or temperature are also continuous variables.\n",
        " - Additional Categories:\n",
        "\n",
        "Mixed Random Variable: Combination of discrete and continuous parts (e.g., insurance claim amounts: some zero, otherwise continuous positive values).\n",
        "\n",
        "Indicator Random Variable: Special discrete variable that takes only values 0 or 1 to represent the occurrence of an event.\n",
        " - Conclusion:\n",
        "The two primary types of random variables are Discrete and Continuous, each with its own probability representation. Understanding these types is essential for building probability distributions, performing statistical analysis, and applying real-world problem-solving techniques."
      ],
      "metadata": {
        "id": "4mlYJmEn_jZx"
      }
    },
    {
      "cell_type": "markdown",
      "source": [
        "3. Explain the difference between discrete and continuous distributions"
      ],
      "metadata": {
        "id": "7fUDripJAB5A"
      }
    },
    {
      "cell_type": "markdown",
      "source": [
        "Answer:"
      ],
      "metadata": {
        "id": "ACs6-12LAY96"
      }
    },
    {
      "cell_type": "markdown",
      "source": [
        "Difference Between Discrete and Continuous Distributions\n",
        "\n",
        "In probability theory, a distribution describes how probabilities are assigned to the possible values of a random variable. Since random variables can be either discrete or continuous, their probability distributions differ in representation and application.\n",
        "\n",
        "1. Discrete Probability Distribution\n",
        "\n",
        " - Applies to discrete random variables (countable outcomes).\n",
        "\n",
        " - Probabilities are assigned to individual values using a Probability Mass Function (PMF).\n",
        "\n",
        " - The sum of all probabilities is always 1.\n",
        "\n",
        " - Probability of a specific value can be non-zero.\n",
        "\n",
        " - Examples:\n",
        "\n",
        "Tossing 2 coins: Distribution of number of heads (0, 1, 2).\n",
        "\n",
        "Rolling a die: Distribution of outcomes {1, 2, 3, 4, 5, 6}, each with probability\n",
        "1\n",
        "/\n",
        "6\n",
        "1/6.\n",
        "\n",
        "2. Continuous Probability Distribution\n",
        "\n",
        " - Applies to continuous random variables (uncountable values over an interval).\n",
        "\n",
        " - Probabilities are described using a Probability Density Function (PDF).\n",
        "\n",
        " - The probability of any single exact value is zero; probability is meaningful only over an interval.\n",
        "\n",
        " - The total area under the curve of the PDF equals 1.\n",
        "\n",
        " - Examples:\n",
        "\n",
        "Height of students in a class (e.g., between 150 cm and 180 cm).\n",
        "\n",
        "Time taken for a machine to complete a task.\n",
        "\n",
        "| Feature                | Discrete Distribution                  | Continuous Distribution                  |\n",
        "| ---------------------- | -------------------------------------- | ---------------------------------------- |\n",
        "| Random Variable Type   | Discrete (countable outcomes)          | Continuous (uncountably infinite values) |\n",
        "| Function Used          | Probability Mass Function (PMF)        | Probability Density Function (PDF)       |\n",
        "| Probability of a value | Can be > 0 for specific outcomes       | Always 0 for exact value; use intervals  |\n",
        "| Representation         | Summation of probabilities             | Integration under density curve          |\n",
        "| Example                | Die roll, coin toss, number of defects | Height, weight, time, temperature        |\n",
        "\n",
        "The main difference lies in how probabilities are assigned: discrete distributions assign probabilities to individual outcomes, while continuous distributions assign probabilities over intervals. Both are fundamental for modeling randomness in real-life problems."
      ],
      "metadata": {
        "id": "kshhhXNCAlR7"
      }
    },
    {
      "cell_type": "markdown",
      "source": [
        "4. What is a binomial distribution, and how is it used in probability?\n"
      ],
      "metadata": {
        "id": "EB8Wd3Q5BMyk"
      }
    },
    {
      "cell_type": "markdown",
      "source": [
        "Answer:\n"
      ],
      "metadata": {
        "id": "BH7NDVCKBTey"
      }
    },
    {
      "cell_type": "markdown",
      "source": [
        "Binomial Distribution and Its Use in Probability\n",
        "\n",
        "The binomial distribution is a discrete probability distribution that models the number of successes in a fixed number of independent Bernoulli trials, each with the same probability of success. It is one of the most widely used distributions in probability and statistics for analyzing situations where outcomes are repeated and have only two possibilities (success or failure).\n",
        "\n",
        "Definition:\n",
        "If a random variable\n",
        "x represents the number of successes in\n",
        "n independent trials, with probability of success\n",
        "p and probability of failure q=1-p\n",
        "q=1-p, then x\n",
        "X follows a Binomial distribution. Its probability mass function (PMF) is:\n",
        "\n",
        "p\n",
        "(\n",
        "x=\n",
        "k\n",
        ")=\n",
        "(\n",
        "n\n",
        "k\n",
        ")\n",
        "p\n",
        "k\n",
        "(\n",
        "1-\n",
        "p\n",
        ")\n",
        "n-\n",
        "k\n",
        ",\n",
        "k=\n",
        "0\n",
        ",\n",
        "1\n",
        ",\n",
        "2\n",
        ",\n",
        "…\n",
        ",\n",
        "n\n",
        "P(X=k)=(\n",
        "k\n",
        "n\n",
        "\t​\n",
        "\n",
        ")p\n",
        "k\n",
        "(1-p)\n",
        "n-k\n",
        ",k=0,1,2,…,n\n",
        "\n",
        "where\n",
        "(\n",
        "n\n",
        "k\n",
        ")\n",
        "(\n",
        "k\n",
        "n) = number of ways to choose\n",
        "k\n",
        "k successes from\n",
        "n\n",
        "n trials.\n",
        "\n",
        " - Characteristics:\n",
        "\n",
        "Discrete distribution (outcomes are counts of successes).\n",
        "\n",
        "Parameters:\n",
        "\n",
        "𝑛\n",
        "n = number of trials.\n",
        "\n",
        "𝑝\n",
        "p = probability of success.\n",
        "\n",
        "Mean =\n",
        "𝑛\n",
        "𝑝\n",
        "np.\n",
        "\n",
        "Variance =\n",
        "𝑛\n",
        "𝑝\n",
        "(\n",
        "1\n",
        "−\n",
        "𝑝\n",
        ")\n",
        "np(1−p).\n",
        " - Uses in Probability:\n",
        "\n",
        "To model situations with fixed trials and two outcomes.\n",
        "\n",
        "To calculate the probability of obtaining exactly, at most, or at least a certain number of successes.\n",
        "\n",
        "Common applications include quality control, genetics, surveys, reliability testing, and coin-toss experiments.\n",
        " - Examples:\n",
        "\n",
        "Tossing a coin 5 times: What is the probability of getting exactly 3 heads?\n",
        "\n",
        "Here,\n",
        "n=\n",
        "5\n",
        ",\n",
        "p=\n",
        "0.5\n",
        ",\n",
        "k=\n",
        "3\n",
        "n=5,p=0.5,k=3.\n",
        "\n",
        "p\n",
        "(\n",
        "x=\n",
        "3\n",
        ")=\n",
        "(\n",
        "5\n",
        "3\n",
        ")\n",
        "(\n",
        "0.5\n",
        ")\n",
        "3\n",
        "(\n",
        "0.5\n",
        ")\n",
        "2=\n",
        "10\n",
        "x\n",
        "0.125\n",
        "x\n",
        "0.25=\n",
        "0.3125\n",
        "P(X=3)=(\n",
        "3\n",
        "5\n",
        "\t​\n",
        "\n",
        ")(0.5)\n",
        "3\n",
        "(0.5)\n",
        "2\n",
        "=10×0.125×0.25=0.3125.\n",
        "\n",
        "A factory produces bulbs with a 95% chance of working. Out of 10 bulbs, probability that exactly 9 work = binomial model.\n",
        " - Conclusion:\n",
        "The binomial distribution is essential for modeling binary outcomes across repeated trials. By providing probabilities for exact counts of successes, it helps in decision-making and prediction in real-life uncertain events such as quality testing, elections, and clinical trials."
      ],
      "metadata": {
        "id": "vkFVHqL5BU-D"
      }
    },
    {
      "cell_type": "markdown",
      "source": [
        "5. What is the standard normal distribution, and why is it important?"
      ],
      "metadata": {
        "id": "JDY2SobIDXsJ"
      }
    },
    {
      "cell_type": "markdown",
      "source": [
        "Answer:\n"
      ],
      "metadata": {
        "id": "zazBJIpdDfXe"
      }
    },
    {
      "cell_type": "markdown",
      "source": [
        "The standard normal distribution is a special case of the normal distribution in probability and statistics. It is a continuous, symmetric, bell-shaped distribution with mean = 0 and standard deviation = 1. The random variable that follows this distribution is called a standard normal variable (Z).\n",
        "\n",
        "Definition:\n",
        "A normal random variable\n",
        "𝑋\n",
        "∼\n",
        "𝑁\n",
        "(\n",
        "𝜇\n",
        ",\n",
        "𝜎\n",
        "2\n",
        ")\n",
        "X∼N(μ,σ\n",
        "2\n",
        ") can be converted to a standard normal variable\n",
        "𝑍\n",
        "Z using the formula:\n",
        "\n",
        "z=\n",
        "(𝑋−𝜇)/𝜎\n",
        "\t​\n",
        "\n",
        "\n",
        "where\n",
        "\n",
        "\n",
        "X = original value,\n",
        "\n",
        "\n",
        "μ = mean,\n",
        "\n",
        "\n",
        "σ = standard deviation.\n",
        "\n",
        "This transformation is called standardization.\n",
        " - Properties:\n",
        "\n",
        "Symmetric about zero.\n",
        "\n",
        "Bell-shaped curve with peak at 0.\n",
        "\n",
        "Total area under the curve = 1.\n",
        "\n",
        "About 68% of values lie within 1 standard deviation, 95% within 2, and 99.7% within 3 (Empirical Rule).\n",
        "\n",
        "Probabilities are calculated using the standard normal table (Z-table).\n",
        " - Importance in Statistics:\n",
        "\n",
        "Serves as a reference distribution for probability calculations.\n",
        "\n",
        "Simplifies problems: Any normal distribution can be converted into the standard normal using Z-scores.\n",
        "\n",
        "Widely used in hypothesis testing, confidence intervals, and control charts.\n",
        "\n",
        "Forms the basis of many statistical models and machine learning algorithms.\n",
        "\n",
        " - Example:\n",
        "Suppose exam scores are normally distributed with\n",
        "𝜇=\n",
        "70\n",
        ",\n",
        "𝜎=\n",
        "10\n",
        "μ=70,σ=10. What is the probability that a student scores less than 80?\n",
        "\n",
        "Convert to Z:\n",
        "𝑍=\n",
        "80\n",
        "−\n",
        "70\n",
        "10=\n",
        "1\n",
        "Z=\n",
        "10\n",
        "80−70=1.\n",
        "\n",
        "From Z-table,\n",
        "p\n",
        "(\n",
        "z\n",
        "<\n",
        "1\n",
        ")=\n",
        "0.8413\n",
        "P(Z<1)=0.8413.\n",
        "\n",
        "So, probability = 84.13%.\n",
        " - Conclusion:\n",
        "The standard normal distribution is fundamental in statistics because it provides a common framework to compare different datasets, calculate probabilities, and make inferences. Its simplicity and universality make it one of the most important tools in probability theory."
      ],
      "metadata": {
        "id": "pWOj5y8CDhRK"
      }
    },
    {
      "cell_type": "markdown",
      "source": [
        "6. What is the Central Limit Theorem (CLT), and why is it critical in statistics?"
      ],
      "metadata": {
        "id": "kUdt42noGWrM"
      }
    },
    {
      "cell_type": "markdown",
      "source": [
        "Answer:"
      ],
      "metadata": {
        "id": "D1YbkwsoGcUP"
      }
    },
    {
      "cell_type": "markdown",
      "source": [
        "Central Limit Theorem (CLT) and Its Importance\n",
        "\n",
        "The Central Limit Theorem (CLT) is a fundamental concept in statistics that describes the behavior of sample means from a population. It states that, regardless of the population’s distribution, the sampling distribution of the sample mean (or sum) approaches a normal distribution as the sample size\n",
        "𝑛\n",
        "n becomes large, typically\n",
        "𝑛\n",
        "≥\n",
        "30\n",
        "n≥30.\n",
        "\n",
        "Key Points:\n",
        "\n",
        "Applies to independent and identically distributed (i.i.d.) random variables.\n",
        "\n",
        "The mean of the sampling distribution = population mean (\n",
        "𝜇\n",
        "μ).\n",
        "\n",
        "The standard deviation of the sampling distribution = population standard deviation divided by n(\n",
        "𝜎\n",
        "/\n",
        "𝑛\n",
        "σ/\n",
        "n), also called the standard error.\n",
        "\n",
        "Works even if the population is not normally distributed, provided the sample size is sufficiently large.\n",
        "\n",
        " - Why CLT is Critical:\n",
        "\n",
        "Allows us to use normal distribution methods for hypothesis testing and confidence intervals, even when the population distribution is unknown.\n",
        "\n",
        "Provides a basis for inferential statistics, enabling us to make conclusions about populations from samples.\n",
        "\n",
        "Simplifies probability calculations for sample means and sums.\n",
        "\n",
        "Supports many practical applications in quality control, finance, surveys, and research studies.\n",
        " - Example:\n",
        "Suppose the population of students scores is skewed, with\n",
        "𝜇=\n",
        "50\n",
        "μ=50 and\n",
        "𝜎=\n",
        "15\n",
        "σ=15. If we take samples of size 40, the distribution of the sample mean will be approximately normal:\n",
        "\n",
        "Mean = 50\n",
        "\n",
        "Standard error =\n",
        "15\n",
        "/\n",
        "40\n",
        "≈\n",
        "2.37\n",
        "15/\n",
        "40\n",
        "\t​\n",
        "\n",
        "≈2.37\n",
        "\n",
        "We can now calculate probabilities like\n",
        "𝑃\n",
        "(\n",
        "48\n",
        "<\n",
        "𝑋\n",
        "<\n",
        "52\n",
        ")\n",
        "P(48<\n",
        "X<52) using the normal distribution.\n",
        " - Conclusion:\n",
        "The Central Limit Theorem is a cornerstone of statistics because it justifies using the normal distribution for sample means, regardless of the underlying population distribution. It enables statistical inference, hypothesis testing, and confidence interval estimation in real-world applications, making it one of the most powerful tools in probability and statistics."
      ],
      "metadata": {
        "id": "pVXX-gyCGeCs"
      }
    },
    {
      "cell_type": "markdown",
      "source": [
        "7. What is the significance of confidence intervals in statistical analysis?\n"
      ],
      "metadata": {
        "id": "QCG_RoHnHR2A"
      }
    },
    {
      "cell_type": "markdown",
      "source": [
        "Answer:\n"
      ],
      "metadata": {
        "id": "-mNny-jmdn7E"
      }
    },
    {
      "cell_type": "markdown",
      "source": [
        "Significance of Confidence Intervals in Statistical Analysis\n",
        "\n",
        "A confidence interval (CI) is a range of values, derived from sample data, that is likely to contain the true population parameter (such as the mean or proportion) with a specified level of confidence (commonly 90%, 95%, or 99%). Unlike a single point estimate, a confidence interval provides an estimate of uncertainty, giving a range within which the true value is expected to lie.\n",
        "Key Points:\n",
        "\n",
        " - Constructed using the sample statistic, standard error, and a critical value from the relevant probability distribution (e.g., Z or t distribution).\n",
        "\n",
        " - Confidence level indicates the probability that the interval captures the true parameter in repeated sampling (e.g., 95% CI means 95 out of 100 such intervals would contain the true mean).\n",
        "\n",
        " - Wider intervals indicate greater uncertainty, while narrower intervals indicate more precise estimates.\n",
        "\n",
        " - Helps in decision-making by quantifying the reliability of sample estimates.\n",
        "\n",
        " Uses in Statistical Analysis:\n",
        "\n",
        " - Inferential statistics: Estimating population parameters from sample data.\n",
        "\n",
        " - Comparing groups: Determining whether differences are significant.\n",
        "\n",
        " - Hypothesis testing: Confidence intervals can provide similar conclusions to significance tests.\n",
        "\n",
        " - Risk assessment and planning: Especially in business, medicine, and engineering.\n",
        "Example:\n",
        "Suppose a sample of 50 students has a mean exam score of 70 with a standard deviation of 10. A 95% confidence interval for the population mean can be calculated as:\n",
        "\n",
        "So the 95% CI = (67.23, 72.77).\n",
        "\n",
        "Interpretation: We are 95% confident that the true mean score of all students lies between 67.23 and 72.77.\n",
        " - Conclusion:\n",
        "Confidence intervals are significant because they quantify uncertainty, provide more information than point estimates, and allow researchers and analysts to make informed, reliable conclusions about populations from sample data. They are a fundamental tool in all branches of statistical analysis and decision-making.\n"
      ],
      "metadata": {
        "id": "VgGI2RwHdpo8"
      }
    },
    {
      "cell_type": "markdown",
      "source": [
        "8. What is the concept of expected value in a probability distribution?"
      ],
      "metadata": {
        "id": "NTjIE_MWenLK"
      }
    },
    {
      "cell_type": "markdown",
      "source": [
        "Answer:"
      ],
      "metadata": {
        "id": "rhd9qr45eo67"
      }
    },
    {
      "cell_type": "markdown",
      "source": [
        "Expected Value in a Probability Distribution\n",
        "\n",
        "The expected value (EV), also called the mean or mathematical expectation, is a measure of the central tendency of a random variable in a probability distribution. It represents the long-term average outcome if the random experiment were repeated many times. Essentially, it answers the question: “What value should I expect on average?”\n",
        "\n",
        "Definition:\n",
        "\n",
        "For a discrete random variable\n",
        "𝑋\n",
        "X with possible values\n",
        "𝑥\n",
        "𝑖\n",
        "x\n",
        "i\n",
        "\t​\n",
        "\n",
        " and probabilities\n",
        "𝑝\n",
        "𝑖\n",
        "p\n",
        "i:\n",
        "\n",
        "E\n",
        "(\n",
        "X\n",
        ")=\n",
        "∑\n",
        "𝑖𝑥\n",
        "𝑖⋅\n",
        "𝑝\n",
        "𝑖\n",
        "\n",
        "E(X)=\n",
        "i\n",
        "∑x\n",
        "i.pi\n",
        "\n",
        "For a continuous random variable with probability density function\n",
        "𝑓\n",
        "(\n",
        "𝑥\n",
        ")\n",
        "f(x)\n",
        "\n",
        "Key Points:\n",
        "\n",
        " - Provides a weighted average of all possible outcomes.\n",
        "\n",
        " - Acts as the center of the probability distribution.\n",
        "\n",
        " - Can be used to make predictions and decisions under uncertainty.\n",
        "\n",
        " - Not necessarily a value that the variable can actually take; it is an average over the long run.\n",
        "\n",
        "Examples:\n",
        "Discrete Case: Rolling a fair die:\n",
        "\n",
        "𝐸\n",
        "(\n",
        "𝑋\n",
        ")=\n",
        "1⋅\n",
        "16+\n",
        "2⋅16+⋯\n",
        "+6⋅16=\n",
        "3.5\n",
        "E(X)=1⋅\n",
        "61+2⋅\n",
        "61+⋯+6⋅\n",
        "61=3.5\n",
        "\n",
        "Interpretation: Over many rolls, the average outcome tends to 3.5.\n",
        "\n",
        "Continuous Case: Suppose a machine produces parts with lengths uniformly distributed between 10 and 20 cm:\n",
        "𝐸\n",
        "(\n",
        "𝑋\n",
        ")=\n",
        "10+\n",
        "20\n",
        "2=\n",
        "15\n",
        "E(X)=\n",
        "2\n",
        "10+20=15\n",
        "\n",
        "Interpretation: The average length of parts in the long run is 15 cm.\\\n",
        "\n",
        "Importance in Probability and Statistics:\n",
        "\n",
        " - Forms the basis for variance, standard deviation, and higher moments.\n",
        "\n",
        " - Widely used in risk analysis, economics, and game theory.\n",
        "\n",
        " - Helps in decision-making under uncertainty, like expected profit or loss.\n",
        "\n",
        "Conclusion:\n",
        "\n",
        "The expected value is a fundamental concept that summarizes a probability distribution into a single representative number. It captures the average outcome and plays a critical role in both theoretical probability and practical decision-making across many fields."
      ],
      "metadata": {
        "id": "EuzHv0D_eqVN"
      }
    },
    {
      "cell_type": "markdown",
      "source": [
        "9. Write a Python program to generate 1000 random numbers from a normal distribution with mean = 50 and standard deviation = 5. Compute its mean and standard deviation using NumPy, and draw a histogram to visualize the distribution."
      ],
      "metadata": {
        "id": "qlopFxsBinOk"
      }
    },
    {
      "cell_type": "markdown",
      "source": [
        "Answer:"
      ],
      "metadata": {
        "id": "XrhEy6gBioyU"
      }
    },
    {
      "cell_type": "code",
      "source": [
        "# Import required libraries\n",
        "import numpy as np\n",
        "import matplotlib.pyplot as plt\n",
        "\n",
        "# Set parameters for the normal distribution\n",
        "mean = 50\n",
        "std_dev = 5\n",
        "num_samples = 1000\n",
        "\n",
        "# Generate 1000 random numbers from a normal distribution\n",
        "data = np.random.normal(loc=mean, scale=std_dev, size=num_samples)\n",
        "\n",
        "# Compute mean and standard deviation using NumPy\n",
        "computed_mean = np.mean(data)\n",
        "computed_std = np.std(data)\n",
        "\n",
        "print(\"Computed Mean:\", computed_mean)\n",
        "print(\"Computed Standard Deviation:\", computed_std)\n",
        "\n",
        "# Draw a histogram to visualize the distribution\n",
        "plt.hist(data, bins=30, color='skyblue', edgecolor='black')\n",
        "plt.title('Histogram of Normally Distributed Data')\n",
        "plt.xlabel('Value')\n",
        "plt.ylabel('Frequency')\n",
        "plt.grid(True)\n",
        "plt.show()\n"
      ],
      "metadata": {
        "colab": {
          "base_uri": "https://localhost:8080/",
          "height": 507
        },
        "id": "nrRVO1E-iqLX",
        "outputId": "3f9fa438-b593-4365-a5d2-b5741caf5e59"
      },
      "execution_count": 1,
      "outputs": [
        {
          "output_type": "stream",
          "name": "stdout",
          "text": [
            "Computed Mean: 49.90094579449838\n",
            "Computed Standard Deviation: 5.232460038865288\n"
          ]
        },
        {
          "output_type": "display_data",
          "data": {
            "text/plain": [
              "<Figure size 640x480 with 1 Axes>"
            ],
            "image/png": "[encoded data removed]"
          },
          "metadata": {}
        }
      ]
    },
    {
      "cell_type": "markdown",
      "source": [
        "Explanation:\n",
        "\n",
        " - np.random.normal(loc=mean, scale=std_dev, size=num_samples) generates random numbers from a normal distribution with the given mean and standard deviation.\n",
        "\n",
        " - np.mean(data) calculates the average value of the generated numbers.\n",
        "\n",
        " - np.std(data) calculates the standard deviation.\n",
        "\n",
        " - plt.hist() visualizes the distribution as a histogram, showing the frequency of values across intervals."
      ],
      "metadata": {
        "id": "5pKLcsTWi0Nc"
      }
    },
    {
      "cell_type": "markdown",
      "source": [
        "10. You are working as a data analyst for a retail company. The company has\n",
        "collected daily sales data for 2 years and wants you to identify the overall sales trend.\n",
        "daily_sales = [220, 245, 210, 265, 230, 250, 260, 275, 240, 255,\n",
        " 235, 260, 245, 250, 225, 270, 265, 255, 250, 260]\n",
        "● Explain how you would apply the Central Limit Theorem to estimate the average sales\n",
        "with a 95% confidence interval.\n",
        "● Write the Python code to compute the mean sales and its confidence interval"
      ],
      "metadata": {
        "id": "LtRvP-z8i8P3"
      }
    },
    {
      "cell_type": "markdown",
      "source": [
        "Answer:"
      ],
      "metadata": {
        "id": "MMmZgFW-jFBp"
      }
    },
    {
      "cell_type": "markdown",
      "source": [
        "Since we have daily sales data, the CLT allows us to estimate the distribution of the sample mean even if the underlying daily sales are not perfectly normal. The steps are:\n",
        "\n",
        "Treat each day’s sales as an independent observation.\n",
        "\n",
        "Compute the sample mean (\n",
        "𝑋\n",
        "ˉ\n",
        "X\n",
        "ˉ\n",
        ") and sample standard deviation (\n",
        "𝑠\n",
        "s).\n",
        "\n",
        "The sampling distribution of the mean is approximately normal for a large enough sample.\n",
        "\n",
        "Use the formula for a 95% confidence interval:\n",
        "\n",
        "CI=\n",
        "𝑋\n",
        "ˉ\n",
        "±\n",
        "𝑍\n",
        "𝛼\n",
        "/\n",
        "2\n",
        "⋅\n",
        "𝑠\n",
        "𝑛\n",
        "\n",
        "CI=1.96 for 95% confidence.\n",
        "\n",
        "n = sample size (number of days).\n",
        "\n",
        "s = sample standard deviation.\n",
        "\n",
        "This interval gives the range in which the true mean daily sales is likely to lie with 95% confidence."
      ],
      "metadata": {
        "id": "912EzC3VjNL4"
      }
    },
    {
      "cell_type": "code",
      "source": [
        "import numpy as np\n",
        "from scipy import stats\n",
        "\n",
        "# Daily sales data\n",
        "daily_sales = [220, 245, 210, 265, 230, 250, 260, 275, 240, 255,\n",
        "               235, 260, 245, 250, 225, 270, 265, 255, 250, 260]\n",
        "\n",
        "# Sample size\n",
        "n = len(daily_sales)\n",
        "\n",
        "# Sample mean and standard deviation\n",
        "mean_sales = np.mean(daily_sales)\n",
        "std_sales = np.std(daily_sales, ddof=1)  # ddof=1 for sample standard deviation\n",
        "\n",
        "# 95% confidence interval using Z-score approximation\n",
        "confidence_level = 0.95\n",
        "z_score = stats.norm.ppf(0.975)  # two-tailed 95% CI\n",
        "\n",
        "margin_of_error = z_score * (std_sales / np.sqrt(n))\n",
        "ci_lower = mean_sales - margin_of_error\n",
        "ci_upper = mean_sales + margin_of_error\n",
        "\n",
        "print(\"Mean Daily Sales:\", mean_sales)\n",
        "print(\"95% Confidence Interval: ({:.2f}, {:.2f})\".format(ci_lower, ci_upper))\n"
      ],
      "metadata": {
        "colab": {
          "base_uri": "https://localhost:8080/"
        },
        "id": "UnRtuyw2jG9n",
        "outputId": "7218f13a-e6ea-492f-b9e7-53625023af5f"
      },
      "execution_count": 2,
      "outputs": [
        {
          "output_type": "stream",
          "name": "stdout",
          "text": [
            "Mean Daily Sales: 248.25\n",
            "95% Confidence Interval: (240.68, 255.82)\n"
          ]
        }
      ]
    },
    {
      "cell_type": "code",
      "execution_count": null,
      "metadata": {
        "id": "gndq48at8FiW"
      },
      "outputs": [],
      "source": []
    }
  ]
}