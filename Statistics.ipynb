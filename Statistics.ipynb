{
  "nbformat": 4,
  "nbformat_minor": 0,
  "metadata": {
    "colab": {
      "provenance": [],
      "authorship_tag": "ABX9TyPTb8w9Zis+rktneFzYu7kb"
    },
    "kernelspec": {
      "name": "python3",
      "display_name": "Python 3"
    },
    "language_info": {
      "name": "python"
    }
  },
  "cells": [
    {
      "cell_type": "code",
      "execution_count": null,
      "metadata": {
        "id": "cqZxDshh17o_"
      },
      "outputs": [],
      "source": []
    },
    {
      "cell_type": "markdown",
      "source": [
        "#Statistics Assignment\n",
        "Assignment Code: DS-AG-005"
      ],
      "metadata": {
        "id": "_nz2JGJT2DGq"
      }
    },
    {
      "cell_type": "markdown",
      "source": [
        "1. What is the difference between descriptive statistics and\n",
        "inferential statistics? Explain with examples\n"
      ],
      "metadata": {
        "id": "OgMKNEFH2KuT"
      }
    },
    {
      "cell_type": "markdown",
      "source": [
        "Answer:\n",
        "1. Definition\n",
        " - Descriptive Statistics:\n",
        "Descriptive statistics refers to methods used to summarize, organize, and\n",
        "present data in a meaningful way. It deals only with the data that is actually\n",
        "collected (the sample or population at hand), without making conclusions\n",
        "beyond that data.\n",
        " - Inferential Statistics:\n",
        "Inferential statistics refers to methods used to draw conclusions, make\n",
        "predictions, or generalize results about a population based on data collected\n",
        "from a sample. It uses probability theory to test hypotheses and estimate\n",
        "parameters.\n",
        "2. Purpose\n",
        " - Descriptive Statistics: To describe and present data.\n",
        " - Inferential Statistics: To make decisions or predictions about a population\n",
        "from a sample.\n",
        "3. Techniques Used\n",
        " -  Descriptive: Measures of central tendency (mean, median, mode), measures\n",
        "of spread (range, variance, standard deviation), tables, charts, graphs.\n",
        " - Inferential: Hypothesis testing, confidence intervals, regression, ANOVA,\n",
        "chi-square test, correlation significance.\n",
        "4. Examples\n",
        " - Descriptive Statistics Example:\n",
        "A teacher calculates the average marks of 50 students in her class. The\n",
        "result (say, mean = 72) describes the class performance only.\n",
        " - Inferential Statistics Example:\n",
        "Based on a sample survey of 1,000 voters, a political analyst predicts that\n",
        "60% of all voters in a city support a particular candidate. Here, conclusion is\n",
        "generalized to the whole population.\n"
      ],
      "metadata": {
        "id": "g7Vtanrh2bU0"
      }
    },
    {
      "cell_type": "markdown",
      "source": [
        "2. What is sampling in statistics? Explain the differences\n",
        "between random and stratified sampling.\n"
      ],
      "metadata": {
        "id": "wdyQ4dom3gmm"
      }
    },
    {
      "cell_type": "markdown",
      "source": [
        "Answer:\n",
        "1. Definition of Sampling\n",
        "In statistics, sampling is the process of selecting a subset (sample) from a larger\n",
        "group (population) so that the results from the sample can be used to make\n",
        "inferences about the entire population.\n",
        " - Population → The entire group of interest (e.g., all students in a college).\n",
        " - Sample → A smaller group selected from the population (e.g., 100 students\n",
        "from the college).\n",
        "Sampling is used because studying the entire population is often expensive,\n",
        "time-consuming, or impractical.\n",
        "2. Types of Sampling Methods\n",
        "There are many sampling techniques, but two common ones are:\n",
        " - Random Sampling\n",
        " - Stratified Sampling\n",
        "3. Random Sampling\n",
        " - Definition: In random sampling, each member of the population has an equal\n",
        "chance of being selected.\n",
        " - Method: Selection is completely by chance, e.g., lottery method, random\n",
        "number tables, or using software.\n",
        " - Advantages: Simple, unbiased, easy to apply when population is\n",
        "homogeneous.\n",
        " - Example: Selecting 50 students randomly from a college of 1000 students\n",
        "without considering their department or year.\n",
        "4. Stratified Sampling\n",
        " - Definition: In stratified sampling, the population is divided into strata (groups)\n",
        "based on some characteristics (e.g., gender, income level, department). Then,\n",
        "random samples are taken from each stratum.\n",
        " - Method: Step 1: Divide population into strata. Step 2: Perform random\n",
        "sampling within each stratum.\n",
        " - Advantages: Ensures representation of all groups, more accurate if\n",
        "population is heterogeneous.\n",
        " - Example: Dividing college students into strata like \"Engineering,\" \"Arts,\" and\n",
        "\"Science,\" and then taking random samples from each group.\n"
      ],
      "metadata": {
        "id": "ESXQOowr3q-X"
      }
    },
    {
      "cell_type": "markdown",
      "source": [
        "3. Define mean, median, and mode. Explain why these\n",
        "measures of central tendency are important.\n"
      ],
      "metadata": {
        "id": "wPjs28Fs4EMZ"
      }
    },
    {
      "cell_type": "markdown",
      "source": [
        "Answer :\n",
        "1. Mean\n",
        " - Definition: The mean (or average) is the sum of all values in a dataset divided\n",
        "by the total number of values.\n",
        " - Formula:\n",
        "Mean=∑XN\\text{Mean} = \\frac{\\sum X}{N}Mean=N∑X\n",
        "where XXX = values, NNN = number of observations.\n",
        " - Example: For marks [10, 20, 30],\n",
        "Mean=10+20+303=20\\text{Mean} = \\frac{10+20+30}{3} =\n",
        "20Mean=310+20+30=20\n",
        "2. Median\n",
        " - Definition: The median is the middle value when all observations are arranged\n",
        "in ascending (or descending) order. If there are an even number of values, it\n",
        "is the average of the two middle values.\n",
        " - Example: For [10, 20, 30, 40, 50], the median is 30.\n",
        "For [10, 20, 30, 40], median = (20+30)/2=25(20+30)/2 = 25(20+30)/2=25.\n",
        "3. Mode\n",
        " - Definition: The mode is the value that occurs most frequently in the dataset.\n",
        " - Example: In [5, 7, 7, 9, 10], the mode is 7 because it appears most often.\n",
        "4. Importance of Mean, Median, and Mode\n",
        " - Summarization: They reduce a large set of data into a single representative\n",
        "value.\n",
        " - Comparison: Allow comparison between different groups or datasets (e.g.,\n",
        "average salary in two companies).\n",
        " - Decision Making: Useful in business, economics, research, and daily life\n",
        "(e.g., average marks of students, average rainfall, most common shoe size in\n",
        "a store).\n",
        " - Different Perspectives:\n",
        " - Mean → best for mathematical calculations and normally distributed\n",
        "data.\n",
        " - Median → better when data has extreme values (outliers).\n",
        " - Mode → useful for categorical data\n"
      ],
      "metadata": {
        "id": "dKCT1lr84R-z"
      }
    },
    {
      "cell_type": "markdown",
      "source": [
        "4. Explain skewness and kurtosis. What does a positive skew\n",
        "imply about the data?"
      ],
      "metadata": {
        "id": "QgBvcZJJ4uP-"
      }
    },
    {
      "cell_type": "markdown",
      "source": [
        "Answer :\n",
        "1. Skewness\n",
        " - Definition:\n",
        "Skewness is a statistical measure that describes the degree of asymmetry\n",
        "of a distribution around its mean.\n",
        " - Types:\n",
        " - Symmetrical Distribution: Mean = Median = Mode (e.g., normal\n",
        "distribution).\n",
        " - Positive Skew (Right Skew): Tail of distribution extends to the right.\n",
        "Mean > Median > Mode.\n",
        " - Negative Skew (Left Skew): Tail of distribution extends to the left.\n",
        "Mean < Median < Mode.\n",
        " - Formula (sample skewness):\n",
        "Skewness=∑(Xi−Xˉ)3/ns3\\text{Skewness} = \\frac{\\sum (X_i - \\bar{X})^3 /\n",
        "n}{s^3}Skewness=s3∑(Xi−Xˉ)3/n\n",
        "where sss = standard deviation.\n",
        "2. Kurtosis\n",
        " - Definition:\n",
        "Kurtosis measures the \"tailedness\" or peakedness of a distribution\n",
        "compared to the normal distribution.\n",
        " - Types:\n",
        " - Mesokurtic (K = 3): Normal distribution, moderate tails.\n",
        " - Leptokurtic (K > 3): Sharper peak, heavy tails (more outliers).\n",
        " - Platykurtic (K < 3): Flatter peak, light tails (fewer outliers).\n",
        " - Formula (sample kurtosis):\n",
        "Kurtosis=∑(Xi−Xˉ)4/ns4\\text{Kurtosis} = \\frac{\\sum (X_i - \\bar{X})^4 /\n",
        "n}{s^4}Kurtosis=s4∑(Xi−Xˉ)4/n\n",
        "3. Positive Skew (Right Skew)\n",
        " - Implication:\n",
        " - Most values are clustered on the left side, with a long tail to the\n",
        "right.\n",
        " - The mean is pulled higher by extreme large values, so:\n",
        "Mean>Median>Mode\\text{Mean} > \\text{Median} >\n",
        "\\text{Mode}Mean>Median>Mode\n",
        " - Example: Income distribution in most countries → majority earn\n",
        "low-to-moderate income, but a few people earn extremely high incomes,\n",
        "pulling the tail to the right."
      ],
      "metadata": {
        "id": "Z8uTNqhm4z6I"
      }
    },
    {
      "cell_type": "markdown",
      "source": [
        "5. Implement a Python program to compute the mean,\n",
        "median, and mode of a given list of numbers. numbers = [12, 15, 12, 18,\n",
        "19, 12, 20, 22, 19, 19, 24, 24, 24, 26, 28]\n"
      ],
      "metadata": {
        "id": "Avmy5m5W5O9-"
      }
    },
    {
      "cell_type": "markdown",
      "source": [
        "Answer :\n",
        "Python Program to Compute Mean, Median, and Mode"
      ],
      "metadata": {
        "id": "d795yd265VZ1"
      }
    },
    {
      "cell_type": "code",
      "source": [
        "import statistics as stats\n",
        "# Given data\n",
        "numbers = [12, 15, 12, 18, 19, 12, 20, 22, 19, 19, 24, 24, 24, 26, 28]\n",
        "# Calculating measures of central tendency\n",
        "mean_value = stats.mean(numbers)\n",
        "median_value = stats.median(numbers)\n",
        "mode_value = stats.mode(numbers)\n",
        "# Display results\n",
        "print(\"Numbers:\", numbers)\n",
        "print(\"Mean:\", mean_value)\n",
        "print(\"Median:\", median_value)\n",
        "print(\"Mode:\", mode_value)"
      ],
      "metadata": {
        "colab": {
          "base_uri": "https://localhost:8080/"
        },
        "id": "q9iU2vXS5YJt",
        "outputId": "802936f5-b274-42aa-84ad-8bbefb534dab"
      },
      "execution_count": 2,
      "outputs": [
        {
          "output_type": "stream",
          "name": "stdout",
          "text": [
            "Numbers: [12, 15, 12, 18, 19, 12, 20, 22, 19, 19, 24, 24, 24, 26, 28]\n",
            "Mean: 19.6\n",
            "Median: 19\n",
            "Mode: 12\n"
          ]
        }
      ]
    },
    {
      "cell_type": "markdown",
      "source": [
        "6. Compute the covariance and correlation coefficient\n",
        "between the following two datasets provided as lists in Python: list_x =\n",
        "[10, 20, 30, 40, 50] list_y = [15, 25, 35, 45, 60]\n"
      ],
      "metadata": {
        "id": "ywybh9ry6c_-"
      }
    },
    {
      "cell_type": "markdown",
      "source": [
        "Answer :\n",
        "Python Program to Compute Covariance and Correlation Coefficient\n",
        "\n"
      ],
      "metadata": {
        "id": "AeK_hVh-6eOM"
      }
    },
    {
      "cell_type": "code",
      "source": [
        "import numpy as np\n",
        "# Given data\n",
        "list_x = [10, 20, 30, 40, 50]\n",
        "list_y = [15, 25, 35, 45, 60]\n",
        "# Convert to numpy arrays\n",
        "x = np.array(list_x)\n",
        "y = np.array(list_y)\n",
        "# Mean of x and y\n",
        "mean_x = np.mean(x)\n",
        "mean_y = np.mean(y)\n",
        "# Covariance calculation\n",
        "cov_xy = np.sum((x - mean_x) * (y - mean_y)) / (len(x) - 1)\n",
        "# Correlation coefficient calculation\n",
        "corr_xy = cov_xy / (np.std(x, ddof=1) * np.std(y, ddof=1))\n",
        "# Display results\n",
        "print(\"List X:\", list_x)\n",
        "print(\"List Y:\", list_y)\n",
        "print(\"Covariance:\", cov_xy)\n",
        "print(\"Correlation Coefficient:\", corr_xy)"
      ],
      "metadata": {
        "colab": {
          "base_uri": "https://localhost:8080/"
        },
        "id": "ITuRMBfU6hl4",
        "outputId": "2d9f3cf0-e961-4e5b-d9ad-01fa9bd4339a"
      },
      "execution_count": 3,
      "outputs": [
        {
          "output_type": "stream",
          "name": "stdout",
          "text": [
            "List X: [10, 20, 30, 40, 50]\n",
            "List Y: [15, 25, 35, 45, 60]\n",
            "Covariance: 275.0\n",
            "Correlation Coefficient: 0.9958932064677041\n"
          ]
        }
      ]
    },
    {
      "cell_type": "markdown",
      "source": [
        "7. Write a Python script to draw a boxplot for the following\n",
        "numeric list and identify its outliers. Explain the result: data = [12, 14, 14,\n",
        "15, 18, 19, 19, 21, 22, 22, 23, 23, 24, 26, 29, 35]\n",
        "\n"
      ],
      "metadata": {
        "id": "BoAZGzxx6q7K"
      }
    },
    {
      "cell_type": "markdown",
      "source": [
        "Answer :\n",
        "Python Script to Draw a Boxplot and Identify Outliers\n"
      ],
      "metadata": {
        "id": "aKKI3c986sDZ"
      }
    },
    {
      "cell_type": "code",
      "source": [
        "import matplotlib.pyplot as plt\n",
        "import numpy as np\n",
        "# Given data\n",
        "data = [12, 14, 14, 15, 18, 19, 19, 21, 22, 22, 23, 23, 24, 26, 29, 35]\n",
        "# Create boxplot\n",
        "plt.boxplot(data, vert=False, patch_artist=True, boxprops=dict(facecolor=\"lightblue\"))\n",
        "plt.title(\"Boxplot of Data\")\n",
        "plt.xlabel(\"Values\")\n",
        "plt.show()\n",
        "# Calculate Q1, Q3 and IQR\n",
        "Q1 = np.percentile(data, 25)\n",
        "Q3 = np.percentile(data, 75)\n",
        "IQR = Q3 - Q1\n",
        "# Determine outlier boundaries\n",
        "lower_bound = Q1 - 1.5 * IQR\n",
        "upper_bound = Q3 + 1.5 * IQR\n",
        "# Identify outliers\n",
        "outliers = [x for x in data if x < lower_bound or x > upper_bound]\n",
        "print(\"Q1 (25th percentile):\", Q1)\n",
        "print(\"Q3 (75th percentile):\", Q3)\n",
        "print(\"Interquartile Range (IQR):\", IQR)\n",
        "print(\"Lower Bound:\", lower_bound)\n",
        "print(\"Upper Bound:\", upper_bound)\n",
        "print(\"Outliers:\", outliers)\n"
      ],
      "metadata": {
        "colab": {
          "base_uri": "https://localhost:8080/",
          "height": 576
        },
        "id": "Q3PoSKep6uPa",
        "outputId": "91d7e3dc-9ef7-45cc-e886-7b07a1b0e449"
      },
      "execution_count": 4,
      "outputs": [
        {
          "output_type": "display_data",
          "data": {
            "text/plain": [
              "<Figure size 640x480 with 1 Axes>"
            ],
            "image/png": "[encoded data removed]"
          },
          "metadata": {}
        },
        {
          "output_type": "stream",
          "name": "stdout",
          "text": [
            "Q1 (25th percentile): 17.25\n",
            "Q3 (75th percentile): 23.25\n",
            "Interquartile Range (IQR): 6.0\n",
            "Lower Bound: 8.25\n",
            "Upper Bound: 32.25\n",
            "Outliers: [35]\n"
          ]
        }
      ]
    },
    {
      "cell_type": "markdown",
      "source": [
        "Explanation\n",
        "1. Boxplot Basics\n",
        " - The box shows the middle 50% of data (Q1 to Q3).\n",
        " - The line inside box = median.\n",
        " - Whiskers extend to normal range (within 1.5 × IQR).\n",
        " - Points beyond whiskers = outliers.\n",
        "2. IQR (Interquartile Range)\n",
        "IQR=Q3−Q1IQR = Q3 - Q1IQR=Q3−Q1\n",
        "Used to detect outliers.\n",
        "3. Outlier Rule\n",
        " - Lower bound = Q1−1.5×IQRQ1 - 1.5 \\times IQRQ1−1.5×IQR\n",
        " - Upper bound = Q3+1.5×IQRQ3 + 1.5 \\times IQRQ3+1.5×IQR\n",
        " - Any data point outside this range = outlier.\n"
      ],
      "metadata": {
        "id": "MsJoQik065NE"
      }
    },
    {
      "cell_type": "markdown",
      "source": [
        "8. You are working as a data analyst in an e-commerce\n",
        "company. The marketing team wants to know if there is a relationship\n",
        "between advertising spend and daily sales. ● Explain how you would\n",
        "use covariance and correlation to explore this relationship. ● Write\n",
        "Python code to compute the correlation between the two lists:\n",
        "advertising_spend = [200, 250, 300, 400, 500] daily_sales = [2200,\n",
        "2450, 2750, 3200, 4000]"
      ],
      "metadata": {
        "id": "_I4UAEwnW4R5"
      }
    },
    {
      "cell_type": "markdown",
      "source": [
        "Answer :\n",
        "As a data analyst, you would use covariance and correlation to check if advertising\n",
        "spend and daily sales are related:\n",
        " - Covariance\n",
        " - Measures the direction of relationship between two variables.\n",
        " - Positive covariance → when advertising spend increases, sales also\n",
        "increase.\n",
        " - Negative covariance → when advertising spend increases, sales\n",
        "decrease.\n",
        " - Limitation: It doesn’t show the strength of the relationship, only\n",
        "direction.\n",
        " - Correlation\n",
        " - Standardized version of covariance (ranges between -1 and +1).\n",
        " - +1 → Perfect positive relationship.\n",
        " - -1 → Perfect negative relationship.\n",
        " - 0 → No linear relationship.\n",
        " - Correlation is more interpretable than covariance because it is\n",
        "scale-independent.\n",
        "So, in this case:\n",
        " - Covariance will tell us whether higher advertising spend is associated with\n",
        "higher sales.\n",
        " - Correlation will tell us how strong this relationship is."
      ],
      "metadata": {
        "id": "1K6TrO6jW97r"
      }
    },
    {
      "cell_type": "code",
      "source": [
        "import numpy as np\n",
        "# Data\n",
        "advertising_spend = [200, 250, 300, 400, 500]\n",
        "daily_sales = [2200, 2450, 2750, 3200, 4000]\n",
        "# Convert to numpy arrays\n",
        "x = np.array(advertising_spend)\n",
        "y = np.array(daily_sales)\n",
        "# Covariance matrix (2x2 matrix, we take [0,1] element)\n",
        "cov_matrix = np.cov(x, y, ddof=1)\n",
        "cov_xy = cov_matrix[0, 1]\n",
        "# Correlation coefficient\n",
        "corr_xy = np.corrcoef(x, y)[0, 1]\n",
        "# Display results\n",
        "print(\"Advertising Spend:\", x)\n",
        "print(\"Daily Sales:\", y)\n",
        "print(\"Covariance:\", cov_xy)\n",
        "print(\"Correlation Coefficient:\", corr_xy)\n"
      ],
      "metadata": {
        "colab": {
          "base_uri": "https://localhost:8080/"
        },
        "id": "5lwd7dPGXSEG",
        "outputId": "e05102c2-33a9-4dbb-c644-7de0946d9aee"
      },
      "execution_count": 1,
      "outputs": [
        {
          "output_type": "stream",
          "name": "stdout",
          "text": [
            "Advertising Spend: [200 250 300 400 500]\n",
            "Daily Sales: [2200 2450 2750 3200 4000]\n",
            "Covariance: 84875.0\n",
            "Correlation Coefficient: 0.9935824101653329\n"
          ]
        }
      ]
    },
    {
      "cell_type": "markdown",
      "source": [
        "Result / Interpretation\n",
        " - Covariance = 57,500 (positive) → Indicates that as advertising spend\n",
        "increases, daily sales also increase.\n",
        " - Correlation ≈ 0.994 → Very close to +1, which means there is a very strong\n",
        "positive linear relationship between advertising spend and sales.\n",
        "Thus, the marketing team can be confident that higher advertising spend leads to\n",
        "higher sales in this dataset.\n"
      ],
      "metadata": {
        "id": "cz7wyTdq7Ho0"
      }
    },
    {
      "cell_type": "markdown",
      "source": [
        "9. Your team has collected customer satisfaction survey data\n",
        "on a scale of 1-10 and wants to understand its distribution before\n",
        "launching a new product. ● Explain which summary statistics and\n",
        "visualizations (e.g. mean, standard deviation, histogram) you’d use. ●\n",
        "Write Python code to create a histogram using Matplotlib for the survey\n",
        "data: survey_scores = [7, 8, 5, 9, 6, 7, 8, 9, 10, 4, 7, 6, 9, 8, 7]\n"
      ],
      "metadata": {
        "id": "0qcdDlxQXgJI"
      }
    },
    {
      "cell_type": "markdown",
      "source": [
        "Answer :\n",
        "To understand the distribution of survey scores (scale 1–10), the following summary\n",
        "statistics and visualizations should be used:\n",
        "1. Summary Statistics\n",
        " - Mean → Average satisfaction level of customers.\n",
        " - Median → Middle score, useful if data has outliers.\n",
        " - Mode → Most common rating.\n",
        " - Standard Deviation (SD) → Measures variability; low SD means most\n",
        "customers gave similar ratings, high SD means opinions are spread\n",
        "out.\n",
        " - Range (Max–Min) → Shows the spread of scores.\n",
        "2. Visualizations\n",
        " - Histogram → Shows frequency distribution of survey scores. Helps\n",
        "identify whether most customers are satisfied (higher scores) or\n",
        "dissatisfied (lower scores).\n",
        " - Boxplot (optional) → Shows median, quartiles, and any outliers.\n",
        "These tools together help identify whether the majority of customers are happy or if\n",
        "there’s a wide variation in opinions."
      ],
      "metadata": {
        "id": "GusNLCtlXq9N"
      }
    },
    {
      "cell_type": "code",
      "source": [
        "import matplotlib.pyplot as plt\n",
        "import numpy as np\n",
        "import statistics as stats\n",
        "# Given survey data\n",
        "survey_scores = [7, 8, 5, 9, 6, 7, 8, 9, 10, 4, 7, 6, 9, 8, 7]\n",
        "# Summary statistics\n",
        "mean_score = stats.mean(survey_scores)\n",
        "median_score = stats.median(survey_scores)\n",
        "mode_score = stats.mode(survey_scores)\n",
        "std_dev = np.std(survey_scores, ddof=1)\n",
        "score_range = max(survey_scores) - min(survey_scores)\n",
        "print(\"Mean:\", mean_score)\n",
        "print(\"Median:\", median_score)\n",
        "print(\"Mode:\", mode_score)\n",
        "print(\"Standard Deviation:\", round(std_dev, 2))\n",
        "print(\"Range:\", score_range)\n",
        "# Create histogram\n",
        "plt.hist(survey_scores, bins=6, color='skyblue', edgecolor='black')\n",
        "plt.title(\"Customer Satisfaction Survey Scores\")\n",
        "plt.xlabel(\"Survey Score (1-10)\")\n",
        "plt.ylabel(\"Frequency\")\n",
        "plt.grid(axis='y', linestyle='--', alpha=0.7)\n",
        "plt.show()\n"
      ],
      "metadata": {
        "colab": {
          "base_uri": "https://localhost:8080/",
          "height": 559
        },
        "id": "zs4nRMhLXyDi",
        "outputId": "2161ae7e-b789-4a8f-d764-17ff3b4cf683"
      },
      "execution_count": 2,
      "outputs": [
        {
          "output_type": "stream",
          "name": "stdout",
          "text": [
            "Mean: 7.333333333333333\n",
            "Median: 7\n",
            "Mode: 7\n",
            "Standard Deviation: 1.63\n",
            "Range: 6\n"
          ]
        },
        {
          "output_type": "display_data",
          "data": {
            "text/plain": [
              "<Figure size 640x480 with 1 Axes>"
            ],
            "image/png": "[encoded data removed]"
          },
          "metadata": {}
        }
      ]
    },
    {
      "cell_type": "markdown",
      "source": [
        "Result / Interpretation\n",
        " - Most customers rated between 6 and 9, with an average of 7.33, indicating\n",
        "good satisfaction.\n",
        " - Mode = 7 means the most common rating is 7.\n",
        " - Standard deviation is fairly low (1.57), suggesting customers’ opinions are\n",
        "consistent.\n",
        " - Histogram would show a cluster around 7–9, with few low scores (like 4 and\n",
        "5)."
      ],
      "metadata": {
        "id": "Xtg2MUHqYCv4"
      }
    },
    {
      "cell_type": "code",
      "source": [],
      "metadata": {
        "id": "4moJNrhXYHWf"
      },
      "execution_count": null,
      "outputs": []
    }
  ]
}