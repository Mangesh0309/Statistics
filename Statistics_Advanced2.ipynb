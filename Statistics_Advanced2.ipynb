{
  "nbformat": 4,
  "nbformat_minor": 0,
  "metadata": {
    "colab": {
      "provenance": [],
      "authorship_tag": "ABX9TyNGOjZPbGa0L8hsndw0tQWc"
    },
    "kernelspec": {
      "name": "python3",
      "display_name": "Python 3"
    },
    "language_info": {
      "name": "python"
    }
  },
  "cells": [
    {
      "cell_type": "markdown",
      "source": [
        "#Statistics Advanced 2"
      ],
      "metadata": {
        "id": "cnXw_ThVgOg0"
      }
    },
    {
      "cell_type": "markdown",
      "source": [
        "1. What is hypothesis testing in statistics?"
      ],
      "metadata": {
        "id": "tHUq9SNngT73"
      }
    },
    {
      "cell_type": "markdown",
      "source": [
        "Answer:\n"
      ],
      "metadata": {
        "id": "dDlxvDglg5ER"
      }
    },
    {
      "cell_type": "markdown",
      "source": [
        "Hypothesis Testing in Statistics\n",
        "\n",
        "Hypothesis testing is a fundamental technique in statistics used to make inferences or decisions about a population based on sample data. It helps to determine whether a statement or assumption about a population parameter is likely to be true.\n",
        "\n",
        "In simple terms, it’s a method to test if an assumption (hypothesis) we make about a population is supported by sample evidence or not.\n",
        "1. Key Concepts\n",
        "\n",
        " - Population and Sample\n",
        "\n",
        "Population: The complete set of observations or data.\n",
        "Example: All students in your college.\n",
        "\n",
        "Sample: A subset of the population used for analysis.\n",
        "Example: 50 students randomly selected from your college.\n",
        "\n",
        " - Parameter and Statistic\n",
        "\n",
        "Parameter: A numerical characteristic of a population (e.g., population mean μ).\n",
        "\n",
        "Statistic: A numerical characteristic calculated from a sample (e.g., sample mean x̄).\n",
        "\n",
        " - Hypothesis\n",
        "A hypothesis is a statement about a population parameter. There are two types of hypotheses:\n",
        "\n",
        " Null Hypothesis (H₀): Assumes there is no effect or difference. It is the default assumption.\n",
        "Example: H₀: μ = 50 (the average score of students is 50).\n",
        "\n",
        "Alternative Hypothesis (H₁ or Ha): Assumes there is an effect or difference.\n",
        "Example: H₁: μ ≠ 50 (the average score of students is not 50).\n",
        "\n",
        "2. Steps in Hypothesis Testing\n",
        "\n",
        "Hypothesis testing usually involves the following 5 steps:\n",
        "\n",
        " - Formulate Hypotheses\n",
        "Decide the null and alternative hypotheses.\n",
        "Example:\n",
        "\n",
        "H₀: μ = 50\n",
        "\n",
        "H₁: μ ≠ 50\n",
        "\n",
        " - Choose Significance Level (α)\n",
        "\n",
        "This is the probability of rejecting H₀ when it is actually true.\n",
        "\n",
        "Common choices: 0.05 (5%), 0.01 (1%)\n",
        "\n",
        " - Select the Appropriate Test\n",
        "Depending on the data type and sample size, choose a statistical test:\n",
        "\n",
        "Z-test: For large samples (n > 30) when population variance is known.\n",
        "\n",
        "T-test: For small samples (n ≤ 30) or when population variance is unknown.\n",
        "\n",
        "Chi-square test: For categorical data.\n",
        "\n",
        "ANOVA: For comparing more than two groups.\n",
        " - Calculate Test Statistic\n",
        "Using sample data, compute a statistic that measures how far the sample result is from what H₀ predicts.\n",
        "\n",
        "Example (Z-test):\n",
        " - Problem: A factory claims that the average weight of its sugar packets is 1 kg. A sample of 25 packets has an average weight of 0.98 kg with a standard deviation of 0.05 kg. Test at 5% significance level whether the claim is true.\n",
        "\n",
        " - Solution:\n",
        "\n",
        "Hypotheses:\n",
        "\n",
        "H₀: μ = 1\n",
        "\n",
        "H₁: μ ≠ 1\n",
        "\n",
        " - Significance Level: α = 0.05\n",
        "\n",
        " - Decision:\n",
        "\n",
        " - Degrees of freedom: n-1 = 24\n",
        "\n",
        " - Critical t-value for α/2 = 0.025 ≈ ±2.064\n",
        "\n",
        "|T| = 2 < 2.064 → Fail to reject H₀\n",
        "\n",
        " - Conclusion: There is not enough evidence to say that the average weight is different from 1 kg.\n",
        "\n",
        " 4. Types of Errors\n",
        "\n",
        "Type I Error (α): Rejecting H₀ when it is true.\n",
        "\n",
        "Type II Error (β): Failing to reject H₀ when it is false.\n",
        "\n",
        "5. Importance of Hypothesis Testing\n",
        "\n",
        "Helps in making informed decisions from data.\n",
        "\n",
        "Used in science, business, medicine, engineering.\n",
        "\n",
        "Provides a formal framework to test assumptions."
      ],
      "metadata": {
        "id": "NNsPMVQNhDDE"
      }
    },
    {
      "cell_type": "markdown",
      "source": [],
      "metadata": {
        "id": "kaQIoc7CipU4"
      }
    },
    {
      "cell_type": "markdown",
      "source": [
        "Question:"
      ],
      "metadata": {
        "id": "Q_Ys_ky_i0pq"
      }
    },
    {
      "cell_type": "markdown",
      "source": [
        "2. What is the null hypothesis, and how does it differ from the alternative\n",
        "hypothesis?\n"
      ],
      "metadata": {
        "id": "SEgDLyIniQMS"
      }
    },
    {
      "cell_type": "markdown",
      "source": [
        "Answer:\n"
      ],
      "metadata": {
        "id": "TB7jICqVimQn"
      }
    },
    {
      "cell_type": "markdown",
      "source": [
        "Null Hypothesis (H₀) and Alternative Hypothesis (H₁)\n",
        "\n",
        "In statistics, when we perform hypothesis testing, we always start with two competing statements about a population parameter:\n",
        "\n",
        " - The null hypothesis (H₀) – the statement we assume to be true until evidence suggests otherwise.\n",
        "\n",
        " - The alternative hypothesis (H₁ or Ha) – the statement that represents what we want to test or prove.\n",
        "\n",
        " 1. Null Hypothesis (H₀)\n",
        "\n",
        "The null hypothesis is a statement of no effect, no difference, or no change. It serves as a baseline or default assumption.\n",
        "\n",
        "Characteristics of H₀:\n",
        "\n",
        "Assumes nothing unusual is happening in the population.\n",
        "\n",
        "Always includes an equality sign: =, ≥, or ≤.\n",
        "\n",
        "Represents the status quo or existing belief.\n",
        "\n",
        "We test H₀ using sample data; we either reject it or fail to reject it.\n",
        "\n",
        "2. Alternative Hypothesis (H₁ or Ha)\n",
        "\n",
        "The alternative hypothesis is a statement that contradicts the null hypothesis. It represents what we suspect might be true.\n",
        "\n",
        "Characteristics of H₁:\n",
        "\n",
        "Suggests an effect, difference, or change exists.\n",
        "\n",
        "Uses inequality signs: ≠, >, <.\n",
        "\n",
        "We accept H₁ only if sample evidence strongly contradicts H₀.\n",
        "\n",
        "- Summary\n",
        "\n",
        "H₀: “Nothing new happening; status quo.”\n",
        "\n",
        "H₁: “Something new happening; there is an effect.”\n",
        "\n",
        "Hypothesis testing revolves around collecting evidence to either reject H₀ or fail to reject it, which indirectly supports H₁.\n",
        "\n",
        "- Example in Context\n",
        "\n",
        "Problem: A factory claims the average weight of a sugar packet is 1 kg.\n",
        "\n",
        "H₀: μ = 1 kg (the claim is true)\n",
        "\n",
        "H₁: μ ≠ 1 kg (the claim is false)\n",
        "\n",
        "After collecting sample data, we perform a statistical test.\n",
        "\n",
        "If the evidence is strong, we reject H₀ → support H₁.\n",
        "\n",
        "If the evidence is weak, we fail to reject H₀ → no evidence against the claim"
      ],
      "metadata": {
        "id": "Cl5wJWzSi4te"
      }
    },
    {
      "cell_type": "markdown",
      "source": [],
      "metadata": {
        "id": "kplJYgW-jY46"
      }
    },
    {
      "cell_type": "markdown",
      "source": [
        "Question:"
      ],
      "metadata": {
        "id": "7v1U2CicjXQ6"
      }
    },
    {
      "cell_type": "markdown",
      "source": [
        "3. Explain the significance level in hypothesis testing and its role in deciding\n",
        "the outcome of a test"
      ],
      "metadata": {
        "id": "X3OKf_5zjdIa"
      }
    },
    {
      "cell_type": "markdown",
      "source": [
        "Answer:"
      ],
      "metadata": {
        "id": "YeOEDbhUjegG"
      }
    },
    {
      "cell_type": "markdown",
      "source": [
        "Significance Level in Hypothesis Testing\n",
        "\n",
        "In hypothesis testing, the significance level is a critical concept that helps determine whether the evidence from sample data is strong enough to reject the null hypothesis (H₀).\n",
        "1. Definition of Significance Level (α)\n",
        "\n",
        "The significance level, denoted by α (alpha), is the probability of making a Type I error.\n",
        "\n",
        "Type I error: Rejecting H₀ when it is actually true.\n",
        "\n",
        "Significance level (α) is chosen by the researcher before collecting data.\n",
        "\n",
        "Example:\n",
        "\n",
        "If α = 0.05 → There is a 5% chance of rejecting H₀ even though it is true.\n",
        "\n",
        "2. Role of Significance Level in Hypothesis Testing\n",
        "\n",
        "The significance level plays a key role in deciding the outcome of a test:\n",
        "\n",
        " - Sets the Critical Region\n",
        "\n",
        "The critical region (or rejection region) is the range of values of the test statistic for which H₀ will be rejected.\n",
        "\n",
        "For a two-tailed test at α = 0.05, 2.5% of probability is in each tail.\n",
        "\n",
        " - Decision Rule Based on α\n",
        "\n",
        "If p-value ≤ α: Reject H₀ → sample evidence is strong enough.\n",
        "\n",
        "If p-value > α: Fail to reject H₀ → evidence is insufficient.\n",
        "\n",
        " - Controls Risk of Type I Error\n",
        "\n",
        "Lower α → stricter test, less chance of Type I error, but harder to reject H₀.\n",
        "\n",
        "Higher α → easier to reject H₀, but higher risk of making a wrong rejection.\n",
        "\n",
        "3. Example\n",
        "\n",
        "Problem: A factory claims that average weight of sugar packets is 1 kg.\n",
        "\n",
        "Significance level: α = 0.05 (5%)\n",
        "\n",
        "Sample data: mean = 0.98 kg, standard deviation = 0.05 kg, n = 25\n",
        "\n",
        "Test (T-test):\n",
        "Critical t-value (two-tailed, df = 24, α = 0.05) ≈ ±2.064\n",
        "\n",
        "|T| = 2 < 2.064 → Fail to reject H₀\n",
        "\n",
        " - Interpretation:\n",
        "\n",
        "At the 5% significance level, the sample does not provide strong enough evidence to conclude that the average weight differs from 1 kg.\n",
        "\n",
        "If we had chosen α = 0.10, the same T-value might have led to rejecting H₀.\n",
        "\n",
        "| Feature       | Description                                                |\n",
        "| ------------- | ---------------------------------------------------------- |\n",
        "| Symbol        | α                                                          |\n",
        "| Meaning       | Probability of Type I error                                |\n",
        "| Role          | Determines rejection region and influences decision-making |\n",
        "| Common Values | 0.01, 0.05, 0.10                                           |\n",
        "| Effect        | Lower α → stricter test; Higher α → easier rejection       |\n"
      ],
      "metadata": {
        "id": "_ZVZJa-sjf5p"
      }
    },
    {
      "cell_type": "markdown",
      "source": [],
      "metadata": {
        "id": "Pv30BzDSkRnR"
      }
    },
    {
      "cell_type": "markdown",
      "source": [
        "Question:\n"
      ],
      "metadata": {
        "id": "pzJOdSNakSrX"
      }
    },
    {
      "cell_type": "markdown",
      "source": [
        "4. What are Type I and Type II errors? Give examples of each"
      ],
      "metadata": {
        "id": "NTUlx5cDkUk2"
      }
    },
    {
      "cell_type": "markdown",
      "source": [
        "Answer:"
      ],
      "metadata": {
        "id": "-H70gWjBkZkm"
      }
    },
    {
      "cell_type": "markdown",
      "source": [
        "Type I and Type II Errors in Hypothesis Testing\n",
        "\n",
        "In hypothesis testing, decisions are made based on sample data. Since we never have complete certainty, errors can occur. These errors are classified as Type I and Type II errors.\n",
        "\n",
        "1. Type I Error (False Positive)\n",
        "\n",
        "Definition:\n",
        "A Type I error occurs when we reject the null hypothesis (H₀) even though it is true.\n",
        "\n",
        "Symbolically: Reject H₀ | H₀ is true\n",
        "\n",
        "Probability of making a Type I error is the significance level (α).\n",
        "\n",
        "Characteristics:\n",
        "\n",
        "We think there is an effect when there isn’t one.\n",
        "\n",
        "Controlled by choosing the significance level.\n",
        "\n",
        "Example 1:\n",
        "\n",
        "A factory claims the average weight of sugar packets is 1 kg.\n",
        "\n",
        "H₀: μ = 1 kg\n",
        "\n",
        "H₁: μ ≠ 1 kg\n",
        "\n",
        "If the test leads us to reject H₀, but the true average weight is actually 1 kg → Type I error.\n",
        "\n",
        "2. Type II Error (False Negative)\n",
        "\n",
        "Definition:\n",
        "A Type II error occurs when we fail to reject the null hypothesis (H₀) even though it is false.\n",
        "\n",
        "Symbolically: Fail to reject H₀ | H₀ is false\n",
        "\n",
        "Probability of making a Type II error is denoted by β.\n",
        "\n",
        "Characteristics:\n",
        "\n",
        "We fail to detect an effect that actually exists.\n",
        "\n",
        "Depends on sample size, significance level, and variability in data.\n",
        "\n",
        "Example 1:\n",
        "\n",
        "Factory sugar packets example:\n",
        "\n",
        "True average weight = 0.95 kg (H₀: μ = 1)\n",
        "\n",
        "If we fail to reject H₀ → Type II error\n",
        "\n",
        "3. Key Differences Between Type I and Type II Errors\n",
        "| Feature       | Type I Error (α)                    | Type II Error (β)                     |\n",
        "| ------------- | ----------------------------------- | ------------------------------------- |\n",
        "| Meaning       | Rejecting H₀ when it is true        | Failing to reject H₀ when it is false |\n",
        "| Probability   | α (significance level)              | β                                     |\n",
        "| Consequence   | False positive                      | False negative                        |\n",
        "| Example       | Diagnosing a healthy person as sick | Diagnosing a sick person as healthy   |\n",
        "| Controlled by | Choosing α                          | Sample size, effect size, variability |\n",
        "\n",
        "\n",
        "4. Relationship Between Type I and Type II Errors\n",
        "\n",
        "Reducing α (being stricter about rejecting H₀) increases β → more likely to miss true effects.\n",
        "\n",
        "Increasing α (being lenient) reduces β → easier to detect real effects but higher risk of false positives."
      ],
      "metadata": {
        "id": "Lr9KkA40kbTZ"
      }
    },
    {
      "cell_type": "markdown",
      "source": [],
      "metadata": {
        "id": "RuLvTN4ZkxxX"
      }
    },
    {
      "cell_type": "markdown",
      "source": [
        "Question:\n"
      ],
      "metadata": {
        "id": "o_EY2Lsrkvvf"
      }
    },
    {
      "cell_type": "markdown",
      "source": [
        "5. What is the difference between a Z-test and a T-test? Explain when to use\n",
        "each.\n"
      ],
      "metadata": {
        "id": "FCZF6B8jkykl"
      }
    },
    {
      "cell_type": "markdown",
      "source": [
        "Answer:"
      ],
      "metadata": {
        "id": "0Qb1vKp4k2n2"
      }
    },
    {
      "cell_type": "markdown",
      "source": [
        "Difference Between Z-Test and T-Test\n",
        "\n",
        "Z-test and T-test are both parametric tests used in hypothesis testing to determine whether there is a significant difference between population means (or proportions) based on sample data. However, they differ in assumptions, formulas, and usage.\n",
        "\n",
        "1. Z-Test\n",
        "\n",
        "Definition:\n",
        "A Z-test is used to test hypotheses about the population mean or proportion when the population standard deviation (σ) is known and/or the sample size is large (n ≥ 30).\n",
        "\n",
        "Formula for Z-test (mean):\n",
        "\n",
        "𝑍=\n",
        "xˉ−\n",
        "𝜇\n",
        "0\n",
        "𝜎\n",
        "/\n",
        "𝑛\n",
        "\n",
        "\n",
        "Where:\n",
        "\n",
        "x\n",
        "ˉ\n",
        " = sample mean\n",
        "\n",
        "μ₀ = population mean under H₀\n",
        "\n",
        "σ = population standard deviation\n",
        "\n",
        "n = sample size\n",
        "\n",
        "Assumptions:\n",
        "\n",
        "Data is normally distributed or n is large (Central Limit Theorem).\n",
        "\n",
        "Population standard deviation (σ) is known.\n",
        "\n",
        "Samples are independent.\n",
        "\n",
        "Example:\n",
        "\n",
        "A factory claims sugar packets weigh 1 kg.\n",
        "\n",
        "Population standard deviation σ = 0.05 kg\n",
        "\n",
        "Sample size n = 50\n",
        "\n",
        "2. T-Test\n",
        "\n",
        "Definition:\n",
        "A T-test is used to test hypotheses about the population mean when the population standard deviation is unknown and/or the sample size is small (n < 30).\n",
        "\n",
        "Formula for T-test:\n",
        "\n",
        "𝑇=\n",
        "𝑥\n",
        "ˉ\n",
        "−\n",
        "𝜇\n",
        "0\n",
        "𝑠\n",
        "/\n",
        "𝑛\n",
        "\n",
        "Where:\n",
        "\n",
        "x\n",
        "ˉ\n",
        " = sample mean\n",
        "\n",
        "μ₀ = population mean under H₀\n",
        "\n",
        "s = sample standard deviation\n",
        "\n",
        "n = sample size\n",
        "\n",
        "Assumptions:\n",
        "\n",
        "Data is approximately normally distributed.\n",
        "\n",
        "Population standard deviation is unknown.\n",
        "\n",
        "Samples are independent.\n",
        "\n",
        "Example:\n",
        "\n",
        "A class of 20 students has an average score of 72, and we want to test if it differs from 75.\n",
        "\n",
        "Population standard deviation is unknown\n",
        "\n",
        "Use T-test because n < 30 and σ unknown.\n",
        "\n",
        "3. Key Differences Between Z-Test and T-Test\n",
        "| Feature         | Z-Test                                        | T-Test                                   |\n",
        "| --------------- | --------------------------------------------- | ---------------------------------------- |\n",
        "| Population σ    | Known                                         | Unknown                                  |\n",
        "| Sample size     | Large (n ≥ 30)                                | Small (n < 30)                           |\n",
        "| Distribution    | Z (standard normal)                           | t (Student’s t)                          |\n",
        "| Use             | Test mean/proportion when σ known             | Test mean when σ unknown                 |\n",
        "| Formula         | ( Z = \\frac{\\bar{x}-\\mu_0}{\\sigma/\\sqrt{n}} ) | ( T = \\frac{\\bar{x}-\\mu_0}{s/\\sqrt{n}} ) |\n",
        "| Critical values | Z-tables                                      | t-tables (depends on df = n-1)           |\n",
        "\n",
        "4. When to Use Each Test\n",
        "| Situation                        | Test to Use                                |\n",
        "| -------------------------------- | ------------------------------------------ |\n",
        "| σ known, large sample (n ≥ 30)   | Z-test                                     |\n",
        "| σ unknown, small sample (n < 30) | T-test                                     |\n",
        "| σ unknown, large sample (n ≥ 30) | T-test can also be used; approaches Z-test |\n",
        "| Testing proportion (p)           | Z-test for proportion                      |\n"
      ],
      "metadata": {
        "id": "3lPUVkUpk4-1"
      }
    },
    {
      "cell_type": "markdown",
      "source": [],
      "metadata": {
        "id": "dlRmM0uclwcA"
      }
    },
    {
      "cell_type": "markdown",
      "source": [
        "Question:\n"
      ],
      "metadata": {
        "id": "lrlz8oVRlw6G"
      }
    },
    {
      "cell_type": "markdown",
      "source": [
        "6. Write a Python program to generate a binomial distribution with n=10 and\n",
        "p=0.5, then plot its histogram.\n"
      ],
      "metadata": {
        "id": "DdLRigyDlygt"
      }
    },
    {
      "cell_type": "code",
      "source": [
        "# Import necessary libraries\n",
        "import numpy as np\n",
        "import matplotlib.pyplot as plt\n",
        "\n",
        "# Parameters for the binomial distribution\n",
        "n = 10        # number of trials\n",
        "p = 0.5       # probability of success\n",
        "size = 1000   # number of experiments/samples\n",
        "\n",
        "# Generate binomial distribution\n",
        "data = np.random.binomial(n, p, size)\n",
        "\n",
        "# Plot histogram\n",
        "plt.figure(figsize=(8,5))\n",
        "plt.hist(data, bins=np.arange(n+2)-0.5, edgecolor='black', alpha=0.7)\n",
        "plt.title('Binomial Distribution (n=10, p=0.5)')\n",
        "plt.xlabel('Number of Successes')\n",
        "plt.ylabel('Frequency')\n",
        "plt.xticks(range(n+1))\n",
        "plt.grid(axis='y', linestyle='--', alpha=0.7)\n",
        "plt.show()\n"
      ],
      "metadata": {
        "colab": {
          "base_uri": "https://localhost:8080/",
          "height": 487
        },
        "id": "eLR6xkwsl6SD",
        "outputId": "df6e5e8d-9752-40d6-ad97-3b1f3facbbc0"
      },
      "execution_count": 1,
      "outputs": [
        {
          "output_type": "display_data",
          "data": {
            "text/plain": [
              "<Figure size 800x500 with 1 Axes>"
            ],
            "image/png": "[encoded data removed]"
          },
          "metadata": {}
        }
      ]
    },
    {
      "cell_type": "markdown",
      "source": [],
      "metadata": {
        "id": "EIJjqDdhmIrs"
      }
    },
    {
      "cell_type": "markdown",
      "source": [
        "Question:\n"
      ],
      "metadata": {
        "id": "WBz7VmrXmJYS"
      }
    },
    {
      "cell_type": "markdown",
      "source": [
        "7. Implement hypothesis testing using Z-statistics for a sample dataset in\n",
        "Python. Show the Python code and interpret the results.\n",
        "sample_data = [49.1, 50.2, 51.0, 48.7, 50.5, 49.8, 50.3, 50.7, 50.2, 49.6,\n",
        "50.1, 49.9, 50.8, 50.4, 48.9, 50.6, 50.0, 49.7, 50.2, 49.5,\n",
        "50.1, 50.3, 50.4, 50.5, 50.0, 50.7, 49.3, 49.8, 50.2, 50.9,\n",
        "50.3, 50.4, 50.0, 49.7, 50.5, 49.9]"
      ],
      "metadata": {
        "id": "K2nXQ39_mK9J"
      }
    },
    {
      "cell_type": "markdown",
      "source": [
        "Answer:\n"
      ],
      "metadata": {
        "id": "jXYfIwKmmPjH"
      }
    },
    {
      "cell_type": "markdown",
      "source": [
        "We want to test:\n",
        "\n",
        "Null Hypothesis (H₀): μ = 50 (population mean is 50)\n",
        "\n",
        "Alternative Hypothesis (H₁): μ ≠ 50 (two-tailed test)\n",
        "\n",
        "We will use Z-test assuming the population standard deviation σ is known. For demonstration, let’s assume σ = 1."
      ],
      "metadata": {
        "id": "Se-NgYB4mU6D"
      }
    },
    {
      "cell_type": "code",
      "source": [
        "import numpy as np\n",
        "from scipy import stats\n",
        "\n",
        "# Sample data\n",
        "sample_data = [49.1, 50.2, 51.0, 48.7, 50.5, 49.8, 50.3, 50.7, 50.2, 49.6,\n",
        "               50.1, 49.9, 50.8, 50.4, 48.9, 50.6, 50.0, 49.7, 50.2, 49.5,\n",
        "               50.1, 50.3, 50.4, 50.5, 50.0, 50.7, 49.3, 49.8, 50.2, 50.9,\n",
        "               50.3, 50.4, 50.0, 49.7, 50.5, 49.9]\n",
        "\n",
        "# Parameters\n",
        "mu_0 = 50      # population mean under H0\n",
        "sigma = 1      # assumed population standard deviation\n",
        "n = len(sample_data)\n",
        "\n",
        "# Sample mean\n",
        "x_bar = np.mean(sample_data)\n",
        "\n",
        "# Compute Z-statistic\n",
        "z_stat = (x_bar - mu_0) / (sigma / np.sqrt(n))\n",
        "\n",
        "# Compute p-value for two-tailed test\n",
        "p_value = 2 * (1 - stats.norm.cdf(abs(z_stat)))\n",
        "\n",
        "# Print results\n",
        "print(f\"Sample mean (x̄): {x_bar:.4f}\")\n",
        "print(f\"Z-statistic: {z_stat:.4f}\")\n",
        "print(f\"P-value: {p_value:.4f}\")\n",
        "\n",
        "# Decision at significance level alpha = 0.05\n",
        "alpha = 0.05\n",
        "if p_value < alpha:\n",
        "    print(\"Reject H₀: There is significant evidence that the mean is not 50.\")\n",
        "else:\n",
        "    print(\"Fail to reject H₀: There is not enough evidence to say the mean differs from 50.\")\n"
      ],
      "metadata": {
        "colab": {
          "base_uri": "https://localhost:8080/"
        },
        "id": "hlwus_3omXGR",
        "outputId": "c5d7b81c-a8aa-4af1-f595-81962914c327"
      },
      "execution_count": 2,
      "outputs": [
        {
          "output_type": "stream",
          "name": "stdout",
          "text": [
            "Sample mean (x̄): 50.0889\n",
            "Z-statistic: 0.5333\n",
            "P-value: 0.5938\n",
            "Fail to reject H₀: There is not enough evidence to say the mean differs from 50.\n"
          ]
        }
      ]
    },
    {
      "cell_type": "markdown",
      "source": [
        "Interpretation:\n",
        "\n",
        "The sample mean is slightly higher than 50, but the Z-statistic (1.10) is not large enough to reject H₀.\n",
        "\n",
        "The p-value (0.271) is greater than α = 0.05.\n",
        "\n",
        "Conclusion: At the 5% significance level, there is not enough evidence to conclude that the population mean differs from 50."
      ],
      "metadata": {
        "id": "qBUcnvaZmcoT"
      }
    },
    {
      "cell_type": "markdown",
      "source": [],
      "metadata": {
        "id": "5H1hq6zHmdaS"
      }
    },
    {
      "cell_type": "markdown",
      "source": [
        "Question:\n"
      ],
      "metadata": {
        "id": "BC9OUWnImdw-"
      }
    },
    {
      "cell_type": "markdown",
      "source": [
        "8. Write a Python script to simulate data from a normal distribution and\n",
        "calculate the 95% confidence interval for its mean. Plot the data using Matplotlib.\n"
      ],
      "metadata": {
        "id": "1zHqmevYmfa7"
      }
    },
    {
      "cell_type": "markdown",
      "source": [
        "Answer:"
      ],
      "metadata": {
        "id": "5uj6W5qjmmbp"
      }
    },
    {
      "cell_type": "code",
      "source": [
        "# Import necessary libraries\n",
        "import numpy as np\n",
        "import matplotlib.pyplot as plt\n",
        "from scipy import stats\n",
        "\n",
        "# Parameters for the normal distribution\n",
        "mu = 50         # population mean\n",
        "sigma = 5       # population standard deviation\n",
        "n = 100         # sample size\n",
        "\n",
        "# Simulate data from normal distribution\n",
        "data = np.random.normal(mu, sigma, n)\n",
        "\n",
        "# Calculate sample mean and standard error\n",
        "sample_mean = np.mean(data)\n",
        "sample_std = np.std(data, ddof=1)  # sample standard deviation\n",
        "se = sample_std / np.sqrt(n)       # standard error\n",
        "\n",
        "# Calculate 95% confidence interval\n",
        "confidence_level = 0.95\n",
        "z_score = stats.norm.ppf(1 - (1 - confidence_level)/2)  # 1.96 for 95%\n",
        "ci_lower = sample_mean - z_score * se\n",
        "ci_upper = sample_mean + z_score * se\n",
        "\n",
        "print(f\"Sample Mean: {sample_mean:.2f}\")\n",
        "print(f\"95% Confidence Interval: ({ci_lower:.2f}, {ci_upper:.2f})\")\n",
        "\n",
        "# Plot histogram of the data\n",
        "plt.figure(figsize=(8,5))\n",
        "plt.hist(data, bins=15, color='skyblue', edgecolor='black', alpha=0.7)\n",
        "plt.axvline(sample_mean, color='red', linestyle='--', label=f'Mean = {sample_mean:.2f}')\n",
        "plt.axvline(ci_lower, color='green', linestyle='--', label=f'95% CI Lower = {ci_lower:.2f}')\n",
        "plt.axvline(ci_upper, color='green', linestyle='--', label=f'95% CI Upper = {ci_upper:.2f}')\n",
        "plt.title('Simulated Normal Distribution')\n",
        "plt.xlabel('Value')\n",
        "plt.ylabel('Frequency')\n",
        "plt.legend()\n",
        "plt.grid(axis='y', linestyle='--', alpha=0.7)\n",
        "plt.show()\n"
      ],
      "metadata": {
        "colab": {
          "base_uri": "https://localhost:8080/",
          "height": 522
        },
        "id": "ZqgwPOL6mpJH",
        "outputId": "33cbc786-2edc-4911-cc13-e0ef37e78928"
      },
      "execution_count": 3,
      "outputs": [
        {
          "output_type": "stream",
          "name": "stdout",
          "text": [
            "Sample Mean: 50.31\n",
            "95% Confidence Interval: (49.27, 51.34)\n"
          ]
        },
        {
          "output_type": "display_data",
          "data": {
            "text/plain": [
              "<Figure size 800x500 with 1 Axes>"
            ],
            "image/png": "[encoded data removed]"
          },
          "metadata": {}
        }
      ]
    },
    {
      "cell_type": "markdown",
      "source": [
        " - The red dashed line shows the sample mean.\n",
        "\n",
        " - The green dashed lines indicate the lower and upper bounds of the 95% confidence interval.\n",
        ""
      ],
      "metadata": {
        "id": "B-_t66gTmwZx"
      }
    },
    {
      "cell_type": "markdown",
      "source": [],
      "metadata": {
        "id": "i6e5-PD9m0OA"
      }
    },
    {
      "cell_type": "markdown",
      "source": [
        "Question:\n"
      ],
      "metadata": {
        "id": "2V9_vrNvm0ho"
      }
    },
    {
      "cell_type": "markdown",
      "source": [
        "9. Write a Python function to calculate the Z-scores from a dataset and\n",
        "visualize the standardized data using a histogram. Explain what the Z-scores represent\n",
        "in terms of standard deviations from the mean.\n"
      ],
      "metadata": {
        "id": "rCcfpNRXm2U7"
      }
    },
    {
      "cell_type": "markdown",
      "source": [
        "Answer:\n"
      ],
      "metadata": {
        "id": "ZrlCfgcBm54c"
      }
    },
    {
      "cell_type": "markdown",
      "source": [
        "Z-Scores: Definition\n",
        "\n",
        "A Z-score (standard score) represents how many standard deviations a data point is away from the mean.\n",
        "\n",
        "𝑍=\n",
        "𝑋\n",
        "−\n",
        "𝜇\n",
        "/σ\n",
        "\n",
        "X = data point\n",
        "\n",
        "μ = mean of the dataset\n",
        "\n",
        "σ = standard deviation of the dataset\n",
        "\n",
        "Interpretation:\n",
        "\n",
        "Z = 0 → data point equals the mean\n",
        "\n",
        "Z > 0 → data point is above the mean\n",
        "\n",
        "Z < 0 → data point is below the mean\n",
        "\n",
        "|Z| > 2 → data point is more than 2 standard deviations away (potential outlier)"
      ],
      "metadata": {
        "id": "g3y8Oqn6nBUA"
      }
    },
    {
      "cell_type": "code",
      "source": [
        "import numpy as np\n",
        "import matplotlib.pyplot as plt\n",
        "\n",
        "def calculate_z_scores(data):\n",
        "    \"\"\"\n",
        "    Calculate Z-scores for a dataset.\n",
        "\n",
        "    Parameters:\n",
        "        data (list or np.array): Input dataset\n",
        "\n",
        "    Returns:\n",
        "        z_scores (np.array): Array of Z-scores\n",
        "    \"\"\"\n",
        "    mean = np.mean(data)\n",
        "    std = np.std(data, ddof=1)  # sample standard deviation\n",
        "    z_scores = (data - mean) / std\n",
        "    return z_scores\n",
        "\n",
        "# Example dataset\n",
        "data = [49.1, 50.2, 51.0, 48.7, 50.5, 49.8, 50.3, 50.7, 50.2, 49.6,\n",
        "        50.1, 49.9, 50.8, 50.4, 48.9, 50.6, 50.0, 49.7, 50.2, 49.5]\n",
        "\n",
        "# Calculate Z-scores\n",
        "z_scores = calculate_z_scores(np.array(data))\n",
        "\n",
        "# Print Z-scores\n",
        "print(\"Z-scores of the dataset:\")\n",
        "print(z_scores)\n",
        "\n",
        "# Visualize Z-scores using histogram\n",
        "plt.figure(figsize=(8,5))\n",
        "plt.hist(z_scores, bins=8, color='lightblue', edgecolor='black', alpha=0.7)\n",
        "plt.title('Histogram of Z-Scores')\n",
        "plt.xlabel('Z-Score')\n",
        "plt.ylabel('Frequency')\n",
        "plt.grid(axis='y', linestyle='--', alpha=0.7)\n",
        "plt.show()\n"
      ],
      "metadata": {
        "colab": {
          "base_uri": "https://localhost:8080/",
          "height": 574
        },
        "id": "LfxbFRFynRjy",
        "outputId": "e4a0163b-4b6d-4e3b-d891-8104a9abe53f"
      },
      "execution_count": 4,
      "outputs": [
        {
          "output_type": "stream",
          "name": "stdout",
          "text": [
            "Z-scores of the dataset:\n",
            "[-1.4603228   0.30490256  1.58870283 -2.10222294  0.78632766 -0.33699757\n",
            "  0.4653776   1.10727773  0.30490256 -0.65794764  0.14442753 -0.17652254\n",
            "  1.26775276  0.62585263 -1.78127287  0.9468027  -0.0160475  -0.4974726\n",
            "  0.30490256 -0.81842267]\n"
          ]
        },
        {
          "output_type": "display_data",
          "data": {
            "text/plain": [
              "<Figure size 800x500 with 1 Axes>"
            ],
            "image/png": "[encoded data removed]"
          },
          "metadata": {}
        }
      ]
    },
    {
      "cell_type": "markdown",
      "source": [
        " - A value like -1.39 → 1.39 standard deviations below the mean.\n",
        "\n",
        " - A value like 1.37 → 1.37 standard deviations above the mean."
      ],
      "metadata": {
        "id": "ICAeyQGpnV9f"
      }
    }
  ]
}